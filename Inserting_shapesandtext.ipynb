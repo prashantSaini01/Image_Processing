{
 "cells": [
  {
   "cell_type": "code",
   "execution_count": 47,
   "id": "fe4e2df4",
   "metadata": {},
   "outputs": [
    {
     "data": {
      "text/plain": [
       "-1"
      ]
     },
     "execution_count": 47,
     "metadata": {},
     "output_type": "execute_result"
    }
   ],
   "source": [
    "import cv2\n",
    "import numpy as np\n",
    "\n",
    "img=cv2.imread(\"ankita.jpg\")\n",
    "#img=np.zeros((400,400,3),np.uint8)\n",
    "font=cv2.FONT_HERSHEY_COMPLEX\n",
    "\n",
    "# CIRCLE_FUNCTION--> circle(img,center,radius,color,thickness)\n",
    "cv2.circle(img,(180,180),80,(255,255,0),7)\n",
    "\n",
    "# RECTANGLE FN----> rectangle(img,ptr1,ptr2,color,thickness)\n",
    "cv2.rectangle(img,(30,50),(200,200),(155,55,255),4) \n",
    "\n",
    "# LINE FN--->(img,ptr1,ptr2,color,thickness)\n",
    "cv2.line(img,(200,115),(100,200),(255,0,0),7)\n",
    "\n",
    "# PUT TEXT FN ---> putText(img,text,org,font,range,color,thickness)\n",
    "# cv2.putText(img,\"Serina Nofil\",(10,200),font,1.9,(255,155,0),6)\n",
    "cv2.putText(img,\"Ankita Sharma\",(10,205),font,1.8,(255,155,0),4)\n",
    "\n",
    "cv2.imshow(\"dark\",img)\n",
    "cv2.waitKey(0)\n"
   ]
  }
 ],
 "metadata": {
  "kernelspec": {
   "display_name": "Python 3 (ipykernel)",
   "language": "python",
   "name": "python3"
  },
  "language_info": {
   "codemirror_mode": {
    "name": "ipython",
    "version": 3
   },
   "file_extension": ".py",
   "mimetype": "text/x-python",
   "name": "python",
   "nbconvert_exporter": "python",
   "pygments_lexer": "ipython3",
   "version": "3.10.8"
  }
 },
 "nbformat": 4,
 "nbformat_minor": 5
}
