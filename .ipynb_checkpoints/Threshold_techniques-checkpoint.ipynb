{
 "cells": [
  {
   "cell_type": "code",
   "execution_count": 15,
   "id": "46315d9c",
   "metadata": {},
   "outputs": [],
   "source": [
    "import cv2\n",
    "import numpy as np\n",
    "\n",
    "img=cv2.imread(\"ankita.jpg\")\n",
    "img=cv2.cvtColor(img,cv2.COLOR_BGR2GRAY)"
   ]
  },
  {
   "cell_type": "code",
   "execution_count": 16,
   "id": "5efde318",
   "metadata": {},
   "outputs": [
    {
     "data": {
      "text/plain": [
       "-1"
      ]
     },
     "execution_count": 16,
     "metadata": {},
     "output_type": "execute_result"
    }
   ],
   "source": [
    "#Method-1-THRESH_BINARY\n",
    "\n",
    "ret,thresh=cv2.threshold(img,125,255,cv2.THRESH_BINARY)\n",
    "cv2.imshow(\"original\",img)\n",
    "cv2.imshow(\"Thresh_Binary\",thresh)\n",
    "cv2.waitKey(0)"
   ]
  },
  {
   "cell_type": "code",
   "execution_count": 17,
   "id": "6c6939bd",
   "metadata": {},
   "outputs": [
    {
     "data": {
      "text/plain": [
       "-1"
      ]
     },
     "execution_count": 17,
     "metadata": {},
     "output_type": "execute_result"
    }
   ],
   "source": [
    "#Method-2-THRESH_BINARY_INVERSE\n",
    "\n",
    "ret,thresh_inv=cv2.threshold(img,125,255,cv2.THRESH_BINARY_INV)\n",
    "cv2.imshow(\"original\",img)\n",
    "cv2.imshow(\"Thresh_Binary_INV\",thresh_inv)\n",
    "cv2.waitKey(0)"
   ]
  },
  {
   "cell_type": "code",
   "execution_count": 18,
   "id": "a04881fe",
   "metadata": {},
   "outputs": [
    {
     "data": {
      "text/plain": [
       "-1"
      ]
     },
     "execution_count": 18,
     "metadata": {},
     "output_type": "execute_result"
    }
   ],
   "source": [
    "#Method-3-THRESH_TRUNCATE\n",
    "\n",
    "ret,trunc=cv2.threshold(img,125,255,cv2.THRESH_TRUNC)\n",
    "cv2.imshow(\"original\",img)\n",
    "cv2.imshow(\"Thresh_Binary_TRUNC\",trunc)\n",
    "cv2.waitKey(0)"
   ]
  },
  {
   "cell_type": "code",
   "execution_count": 19,
   "id": "4265ed96",
   "metadata": {},
   "outputs": [
    {
     "data": {
      "text/plain": [
       "-1"
      ]
     },
     "execution_count": 19,
     "metadata": {},
     "output_type": "execute_result"
    }
   ],
   "source": [
    "#Method-4-THRESH_TOZERO\n",
    "\n",
    "ret,zero=cv2.threshold(img,125,255,cv2.THRESH_TOZERO)\n",
    "cv2.imshow(\"original\",img)\n",
    "cv2.imshow(\"Thresh_TOZERO\",zero)\n",
    "cv2.waitKey(0)"
   ]
  },
  {
   "cell_type": "code",
   "execution_count": 20,
   "id": "05e71e21",
   "metadata": {},
   "outputs": [
    {
     "data": {
      "text/plain": [
       "-1"
      ]
     },
     "execution_count": 20,
     "metadata": {},
     "output_type": "execute_result"
    }
   ],
   "source": [
    "#Method-5-THRESH_TOZERO_INV\n",
    "\n",
    "ret,zero_inv=cv2.threshold(img,125,255,cv2.THRESH_TOZERO_INV)\n",
    "cv2.imshow(\"original\",img)\n",
    "cv2.imshow(\"Thresh_TOZERO_INV\",zero_inv)\n",
    "cv2.waitKey(0)"
   ]
  },
  {
   "cell_type": "code",
   "execution_count": null,
   "id": "0c6bfb6b",
   "metadata": {},
   "outputs": [],
   "source": [
    "#results-of-all\n",
    "cv2.imshow(\"original\",img)\n",
    "cv2.imshow(\"Thresh_Binary\",thresh)\n",
    "cv2.imshow(\"Thresh_Binary_INV\",thresh_inv)\n",
    "cv2.imshow(\"Thresh_Binary_TRUNC\",trunc)\n",
    "cv2.imshow(\"Thresh_TOZERO\",zero)\n",
    "cv2.imshow(\"Thresh_TOZERO_INV\",zero_inv)\n",
    "cv2.waitKey(0)\n"
   ]
  },
  {
   "cell_type": "code",
   "execution_count": null,
   "id": "1e67e1ea",
   "metadata": {},
   "outputs": [],
   "source": []
  }
 ],
 "metadata": {
  "kernelspec": {
   "display_name": "Python 3 (ipykernel)",
   "language": "python",
   "name": "python3"
  },
  "language_info": {
   "codemirror_mode": {
    "name": "ipython",
    "version": 3
   },
   "file_extension": ".py",
   "mimetype": "text/x-python",
   "name": "python",
   "nbconvert_exporter": "python",
   "pygments_lexer": "ipython3",
   "version": "3.10.5"
  }
 },
 "nbformat": 4,
 "nbformat_minor": 5
}
