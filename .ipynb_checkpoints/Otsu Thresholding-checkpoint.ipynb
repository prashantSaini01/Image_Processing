{
 "cells": [
  {
   "cell_type": "code",
   "execution_count": null,
   "id": "b6984e5b",
   "metadata": {},
   "outputs": [],
   "source": [
    "import cv2\n",
    "import numpy as np\n",
    "img = cv2.imread(\"bird.jpg\")\n",
    "img=cv2.resize(img,(600,500))\n",
    "img = cv2.cvtColor(img,cv2.COLOR_BGR2GRAY)\n",
    "_,thresh1 =cv2.threshold(img,120,255,cv2.THRESH_BINARY)\n",
    "_,thresh2 =cv2.threshold(img,120,255,cv2.THRESH_BINARY+cv2.THRESH_OTSU)\n",
    "\n",
    "cv2.imshow(\"gray_image\",img)\n",
    "#otsu thresholding is more preferable than simple thresh because they find more details by finding threhold automatically\n",
    "# examples are to detect pattern oif fingerprint and details in mri of human brain\n",
    "cv2.imshow(\"thresh_image\",thresh1)\n",
    "cv2.imshow(\"OTSU_image\",thresh2)\n",
    "\n",
    "cv2.waitKey(0)"
   ]
  },
  {
   "cell_type": "code",
   "execution_count": null,
   "id": "63f5cb18",
   "metadata": {},
   "outputs": [],
   "source": []
  }
 ],
 "metadata": {
  "kernelspec": {
   "display_name": "Python 3 (ipykernel)",
   "language": "python",
   "name": "python3"
  },
  "language_info": {
   "codemirror_mode": {
    "name": "ipython",
    "version": 3
   },
   "file_extension": ".py",
   "mimetype": "text/x-python",
   "name": "python",
   "nbconvert_exporter": "python",
   "pygments_lexer": "ipython3",
   "version": "3.10.8"
  }
 },
 "nbformat": 4,
 "nbformat_minor": 5
}
