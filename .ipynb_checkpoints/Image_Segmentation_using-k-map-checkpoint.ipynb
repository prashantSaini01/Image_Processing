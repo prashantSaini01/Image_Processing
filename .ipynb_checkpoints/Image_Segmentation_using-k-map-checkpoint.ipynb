{
 "cells": [
  {
   "cell_type": "code",
   "execution_count": null,
   "id": "913690e8",
   "metadata": {},
   "outputs": [],
   "source": [
    "\n",
    "import cv2\n",
    "import numpy as np\n",
    "import matplotlib.pyplot as plt"
   ]
  },
  {
   "cell_type": "code",
   "execution_count": null,
   "id": "7ac6014b",
   "metadata": {},
   "outputs": [],
   "source": [
    "image = cv2.imread(\"bird.jpg\")\n",
    "image = cv2.cvtColor(image, cv2.COLOR_BGR2RGB)\n"
   ]
  },
  {
   "cell_type": "markdown",
   "id": "9e4bcb47",
   "metadata": {},
   "source": [
    "# Reshape the image to a 2d array of pixels and 3 colors values (RGB)\n"
   ]
  },
  {
   "cell_type": "code",
   "execution_count": null,
   "id": "aef84038",
   "metadata": {},
   "outputs": [],
   "source": [
    "pixel_values = image.reshape((-1, 3))\n",
    "print(pixel_values)\n",
    "\n",
    "pixel_values = np.float32(pixel_values)\n",
    "print(pixel_values.shape)"
   ]
  },
  {
   "cell_type": "markdown",
   "id": "819efddc",
   "metadata": {},
   "source": [
    "# Define stopping criteria\n"
   ]
  },
  {
   "cell_type": "code",
   "execution_count": null,
   "id": "60c6ca9e",
   "metadata": {},
   "outputs": [],
   "source": [
    "criteria = (cv2.TERM_CRITERIA_EPS + cv2.TERM_CRITERIA_MAX_ITER, 100, 0.2)"
   ]
  },
  {
   "cell_type": "markdown",
   "id": "4a5e7fc6",
   "metadata": {},
   "source": [
    "# Number of cluster(k)\n",
    "\n"
   ]
  },
  {
   "cell_type": "code",
   "execution_count": null,
   "id": "5c701510",
   "metadata": {},
   "outputs": [],
   "source": [
    "k=3\n",
    "_, labels, (centers) = cv2.kmeans(pixel_values, k, None, criteria, 10, cv2.KMEANS_RANDOM_CENTERS)"
   ]
  },
  {
   "cell_type": "code",
   "execution_count": null,
   "id": "48ca09d1",
   "metadata": {},
   "outputs": [],
   "source": []
  },
  {
   "cell_type": "code",
   "execution_count": null,
   "id": "f2492de6",
   "metadata": {},
   "outputs": [],
   "source": []
  },
  {
   "cell_type": "code",
   "execution_count": null,
   "id": "4852214f",
   "metadata": {},
   "outputs": [],
   "source": []
  }
 ],
 "metadata": {
  "kernelspec": {
   "display_name": "Python 3 (ipykernel)",
   "language": "python",
   "name": "python3"
  },
  "language_info": {
   "codemirror_mode": {
    "name": "ipython",
    "version": 3
   },
   "file_extension": ".py",
   "mimetype": "text/x-python",
   "name": "python",
   "nbconvert_exporter": "python",
   "pygments_lexer": "ipython3",
   "version": "3.10.8"
  }
 },
 "nbformat": 4,
 "nbformat_minor": 5
}
