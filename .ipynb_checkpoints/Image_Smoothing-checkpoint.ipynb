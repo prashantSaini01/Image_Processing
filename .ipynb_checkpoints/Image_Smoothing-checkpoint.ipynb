{
 "cells": [
  {
   "cell_type": "code",
   "execution_count": 25,
   "id": "7171ce43",
   "metadata": {},
   "outputs": [
    {
     "data": {
      "text/plain": [
       "-1"
      ]
     },
     "execution_count": 25,
     "metadata": {},
     "output_type": "execute_result"
    }
   ],
   "source": [
    "import cv2\n",
    "import numpy as np\n",
    "\n",
    "img=cv2.imread(\"ankita_smooth.jpg\")\n",
    "\n",
    "# way to average blur the image\n",
    "blur_img=cv2.blur(img,(5,5))\n",
    "\n",
    "# way to gaussian blur the image\n",
    "gauss=cv2.GaussianBlur(img,(5,5),0)\n",
    "\n",
    "# way to median blur to the image\n",
    "med=cv2.medianBlur(img,5)\n",
    "\n",
    "# way to bilateral filter\n",
    "bilateral=cv2.bilateralFilter(img,9,75,75)\n",
    "\n",
    "\n",
    "box_filter=cv2.boxFilter(img,0,(7,7))\n",
    "\n",
    "cv2.imshow(\"original_img\",img) \n",
    "cv2.imshow(\"average_blur_image\",blur_img)\n",
    "cv2.imshow(\"gaussian_blur_image\",gauss)\n",
    "cv2.imshow(\"median_blur_image\",med)\n",
    "cv2.imshow(\"bilateral_filter_img\",bilateral)\n",
    "cv2.imshow(\"box_filter_img\",box_filter)\n",
    "\n",
    "\n",
    "cv2.waitKey(0)"
   ]
  },
  {
   "cell_type": "code",
   "execution_count": null,
   "id": "ad1063c3",
   "metadata": {},
   "outputs": [],
   "source": []
  },
  {
   "cell_type": "code",
   "execution_count": null,
   "id": "1696d5fe",
   "metadata": {},
   "outputs": [],
   "source": []
  },
  {
   "cell_type": "code",
   "execution_count": null,
   "id": "55c5b820",
   "metadata": {},
   "outputs": [],
   "source": []
  }
 ],
 "metadata": {
  "kernelspec": {
   "display_name": "Python 3 (ipykernel)",
   "language": "python",
   "name": "python3"
  },
  "language_info": {
   "codemirror_mode": {
    "name": "ipython",
    "version": 3
   },
   "file_extension": ".py",
   "mimetype": "text/x-python",
   "name": "python",
   "nbconvert_exporter": "python",
   "pygments_lexer": "ipython3",
   "version": "3.10.5"
  }
 },
 "nbformat": 4,
 "nbformat_minor": 5
}
