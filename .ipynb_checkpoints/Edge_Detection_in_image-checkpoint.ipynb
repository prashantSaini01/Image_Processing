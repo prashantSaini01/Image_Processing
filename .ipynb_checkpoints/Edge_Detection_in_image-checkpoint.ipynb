{
 "cells": [
  {
   "cell_type": "code",
   "execution_count": null,
   "id": "abcc417b",
   "metadata": {},
   "outputs": [],
   "source": [
    "import cv2\n",
    "import numpy as np\n",
    "\n",
    "# SOBEL EDGE DETECTION\n",
    "\n",
    "\n",
    "img=cv2.imread(\"highway-1.jpg\")\n",
    "\n",
    "#step-1-convert to gray\n",
    "gray=cv2.cvtColor(img,cv2.COLOR_BGR2GRAY)\n",
    "\n",
    "#step-2-cnvoling the gray using sobelx filter\n",
    "sobelx=cv2.Sobel(gray,cv2.CV_64F,1,0,ksize=5)\n",
    "\n",
    "#step-3-cnvoling the gray using sobely filter\n",
    "sobely=cv2.Sobel(gray,cv2.CV_64F,0,1,ksize=5)\n",
    "\n",
    "#step-4-Laplacian\n",
    "laplacian=cv2.Laplacian(gray,cv2.CV_64F)\n",
    "# cv2.imshow(\"original\",img)\n",
    "# cv2.imshow(\"gary_img\",gray)\n",
    "cv2.imshow(\"sobelx\",sobelx)\n",
    "cv2.imshow(\"sobely\",sobely)\n",
    "cv2.imshow(\"Laplacian\",laplacian)\n",
    "\n",
    "cv2.waitKey(0)\n"
   ]
  },
  {
   "cell_type": "code",
   "execution_count": 24,
   "id": "8db40f42",
   "metadata": {},
   "outputs": [
    {
     "data": {
      "text/plain": [
       "-1"
      ]
     },
     "execution_count": 24,
     "metadata": {},
     "output_type": "execute_result"
    }
   ],
   "source": [
    "import cv2\n",
    "import numpy as np\n",
    "\n",
    "# CANNY EDGE DETECTION\n",
    "\n",
    "\n",
    "img=cv2.imread(\"highway-2.jpg\")\n",
    "\n",
    "#step-1-convert to gray\n",
    "gray=cv2.cvtColor(img,cv2.COLOR_BGR2GRAY)\n",
    "\n",
    "#step-2-appling blur\n",
    "blur=cv2.GaussianBlur(gray,(5,5),0)\n",
    "\n",
    "#step-3-appling canny function\n",
    "canny=cv2.Canny(blur,100,200)\n",
    "\n",
    "cv2.imshow(\"Canny_edge_detection\",canny)\n",
    "cv2.waitKey(0)\n"
   ]
  },
  {
   "cell_type": "code",
   "execution_count": null,
   "id": "b716424e",
   "metadata": {},
   "outputs": [],
   "source": []
  }
 ],
 "metadata": {
  "kernelspec": {
   "display_name": "Python 3 (ipykernel)",
   "language": "python",
   "name": "python3"
  },
  "language_info": {
   "codemirror_mode": {
    "name": "ipython",
    "version": 3
   },
   "file_extension": ".py",
   "mimetype": "text/x-python",
   "name": "python",
   "nbconvert_exporter": "python",
   "pygments_lexer": "ipython3",
   "version": "3.10.5"
  }
 },
 "nbformat": 4,
 "nbformat_minor": 5
}
