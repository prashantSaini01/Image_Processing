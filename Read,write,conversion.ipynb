{
 "cells": [
  {
   "cell_type": "code",
   "execution_count": 1,
   "id": "bb5cc061",
   "metadata": {},
   "outputs": [
    {
     "data": {
      "text/plain": [
       "-1"
      ]
     },
     "execution_count": 1,
     "metadata": {},
     "output_type": "execute_result"
    }
   ],
   "source": [
    "import cv2\n",
    "import numpy as np\n",
    "\n",
    "# way to load the image\n",
    "img=cv2.imread(\"ankita.jpg\")\n",
    "\n",
    "# way to split the channels of image\n",
    "r,b,g = cv2.split(img)\n",
    "\n",
    "# way to merge the all the channels of image\n",
    "merge_img = cv2.merge([r,b,g])\n",
    "\n",
    "# color conversion BGR to GRAY or BGR to HSV\n",
    "gray=cv2.cvtColor(img,cv2.COLOR_BGR2GRAY)\n",
    "hsv=cv2.cvtColor(img,cv2.COLOR_BGR2HSV)\n",
    "\n",
    "# way to write the image\n",
    "cv2.imwrite(\"cute_girl.png\",img)\n",
    "cv2.imwrite(\"cute_girl_GRAY.png\",gray)\n",
    "cv2.imwrite(\"cute_girl_HSV.png\",hsv)\n",
    "\n",
    "# way to show the image\n",
    "cv2.imshow(\"red\",r)\n",
    "cv2.imshow(\"blue\",b)\n",
    "cv2.imshow(\"green\",g)\n",
    "cv2.imshow(\"merge_img\",merge_img)\n",
    "cv2.imshow(\"cute_girl_HSV.png\",hsv)\n",
    "cv2.waitKey(0)"
   ]
  },
  {
   "cell_type": "code",
   "execution_count": null,
   "id": "d8d07c8a",
   "metadata": {},
   "outputs": [],
   "source": []
  },
  {
   "cell_type": "code",
   "execution_count": null,
   "id": "269e4593",
   "metadata": {},
   "outputs": [],
   "source": []
  },
  {
   "cell_type": "code",
   "execution_count": null,
   "id": "44144e21",
   "metadata": {},
   "outputs": [],
   "source": []
  }
 ],
 "metadata": {
  "kernelspec": {
   "display_name": "Python 3 (ipykernel)",
   "language": "python",
   "name": "python3"
  },
  "language_info": {
   "codemirror_mode": {
    "name": "ipython",
    "version": 3
   },
   "file_extension": ".py",
   "mimetype": "text/x-python",
   "name": "python",
   "nbconvert_exporter": "python",
   "pygments_lexer": "ipython3",
   "version": "3.10.8"
  }
 },
 "nbformat": 4,
 "nbformat_minor": 5
}
