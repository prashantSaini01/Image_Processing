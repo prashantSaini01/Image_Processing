{
 "cells": [
  {
   "cell_type": "code",
   "execution_count": 1,
   "id": "e48da2c4",
   "metadata": {},
   "outputs": [
    {
     "data": {
      "text/plain": [
       "-1"
      ]
     },
     "execution_count": 1,
     "metadata": {},
     "output_type": "execute_result"
    }
   ],
   "source": [
    "import cv2\n",
    "import numpy as np\n",
    "img=cv2.imread(\"ankita.jpg\")\n",
    "img=cv2.resize(img,(500,500))\n",
    "\n",
    "#img.shape defines the same size as image\n",
    "#mask used for backhground\n",
    "mask=np.zeros(img.shape[:2],dtype='uint8')\n",
    "# cv2.rectangle(mask,(x1,y1),(x2,y2),color,solid_filled)\n",
    "\n",
    "# cv2.rectangle(mask,(100,100),(300,300),255,-1)\n",
    "\n",
    "# cv2.circle(mask,(x,y),radius,color,thickness)\n",
    "cv2.circle(mask,(250,250),120,255,-1)\n",
    "\n",
    "\n",
    "masked_img=cv2.bitwise_and(img,img,mask=mask)\n",
    "cv2.imshow(\"masked_image\",masked_img)\n",
    "cv2.imshow('sample',img)\n",
    "cv2.waitKey(0)\n",
    "\n"
   ]
  },
  {
   "cell_type": "code",
   "execution_count": 2,
   "id": "019764a7",
   "metadata": {},
   "outputs": [
    {
     "data": {
      "text/plain": [
       "array([[0, 0, 0, ..., 0, 0, 0],\n",
       "       [0, 0, 0, ..., 0, 0, 0],\n",
       "       [0, 0, 0, ..., 0, 0, 0],\n",
       "       ...,\n",
       "       [0, 0, 0, ..., 0, 0, 0],\n",
       "       [0, 0, 0, ..., 0, 0, 0],\n",
       "       [0, 0, 0, ..., 0, 0, 0]], dtype=uint8)"
      ]
     },
     "execution_count": 2,
     "metadata": {},
     "output_type": "execute_result"
    }
   ],
   "source": [
    "rectangle = np.zeros((300,300),dtype='uint8')\n",
    "cv2.rectangle(rectangle,(25,25),(275,275),255,-1)"
   ]
  },
  {
   "cell_type": "code",
   "execution_count": 3,
   "id": "c276dedd",
   "metadata": {},
   "outputs": [
    {
     "data": {
      "text/plain": [
       "array([[0, 0, 0, ..., 0, 0, 0],\n",
       "       [0, 0, 0, ..., 0, 0, 0],\n",
       "       [0, 0, 0, ..., 0, 0, 0],\n",
       "       ...,\n",
       "       [0, 0, 0, ..., 0, 0, 0],\n",
       "       [0, 0, 0, ..., 0, 0, 0],\n",
       "       [0, 0, 0, ..., 0, 0, 0]], dtype=uint8)"
      ]
     },
     "execution_count": 3,
     "metadata": {},
     "output_type": "execute_result"
    }
   ],
   "source": [
    "circle = np.zeros((300,300),dtype='uint8')\n",
    "cv2.circle(circle,(150,150),150,255,-1)"
   ]
  },
  {
   "cell_type": "code",
   "execution_count": 4,
   "id": "9babc1b7",
   "metadata": {},
   "outputs": [],
   "source": [
    "bitwise_and = cv2.bitwise_and(rectangle,circle)"
   ]
  },
  {
   "cell_type": "code",
   "execution_count": 5,
   "id": "d6458af4",
   "metadata": {},
   "outputs": [],
   "source": [
    "bitwise_or = cv2.bitwise_or(rectangle,circle)"
   ]
  },
  {
   "cell_type": "code",
   "execution_count": 6,
   "id": "082dffb7",
   "metadata": {},
   "outputs": [],
   "source": [
    "bitwise_xor = cv2.bitwise_xor(rectangle,circle)"
   ]
  },
  {
   "cell_type": "code",
   "execution_count": 7,
   "id": "d89d4fe4",
   "metadata": {},
   "outputs": [
    {
     "data": {
      "text/plain": [
       "-1"
      ]
     },
     "execution_count": 7,
     "metadata": {},
     "output_type": "execute_result"
    }
   ],
   "source": [
    "cv2.imshow(\"rectangle\",rectangle)\n",
    "cv2.imshow(\"circle\",circle)\n",
    "cv2.imshow(\"bitwise_xor\",bitwise_xor)\n",
    "cv2.imshow(\"bitwise_or\",bitwise_or)\n",
    "cv2.imshow(\"bitwise_and\",bitwise_and)\n",
    "cv2.waitKey(0)"
   ]
  },
  {
   "cell_type": "code",
   "execution_count": null,
   "id": "3db30ba1",
   "metadata": {},
   "outputs": [],
   "source": []
  }
 ],
 "metadata": {
  "kernelspec": {
   "display_name": "Python 3 (ipykernel)",
   "language": "python",
   "name": "python3"
  },
  "language_info": {
   "codemirror_mode": {
    "name": "ipython",
    "version": 3
   },
   "file_extension": ".py",
   "mimetype": "text/x-python",
   "name": "python",
   "nbconvert_exporter": "python",
   "pygments_lexer": "ipython3",
   "version": "3.10.8"
  }
 },
 "nbformat": 4,
 "nbformat_minor": 5
}
