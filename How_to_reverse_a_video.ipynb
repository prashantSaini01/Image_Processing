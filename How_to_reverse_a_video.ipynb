{
 "cells": [
  {
   "cell_type": "code",
   "execution_count": 14,
   "id": "2e5abdf1",
   "metadata": {},
   "outputs": [],
   "source": [
    "#acessing the camera \n",
    "import cv2\n",
    "import numpy as np\n",
    "cap=cv2.VideoCapture(0)\n",
    "\n",
    "while(True):\n",
    "    res,vid=cap.read()\n",
    "    cv2.imshow(\"frame\",vid)\n",
    "    \n",
    "    if cv2.waitKey(25) & 0xFF==ord(\"q\"):\n",
    "        break\n",
    "cap.release()\n",
    "cv2.destroyAllWindows()"
   ]
  },
  {
   "cell_type": "code",
   "execution_count": 15,
   "id": "0abb0566",
   "metadata": {},
   "outputs": [],
   "source": [
    "#play video in reverse mode\n",
    "import cv2\n",
    "import numpy as np\n",
    "cap=cv2.VideoCapture(\"sample.mp4\")\n",
    "\n",
    "res,vid=cap.read()\n",
    "count = 0\n",
    "\n",
    "frame_list=[]\n",
    "\n",
    "while(res==True):\n",
    "    cv2.imwrite(\"frame%d.jpg\"%count,vid)\n",
    "    res,vid=cap.read()\n",
    "    frame_list.append(vid)\n",
    "    count+=1\n",
    "\n",
    "frame_list.pop()\n",
    "for frame in frame_list:\n",
    "    cv2.imshow(\"frame\",frame)\n",
    "    if cv2.waitKey(25) & 0xFF==ord(\"q\"):\n",
    "        break\n",
    "cap.release()\n",
    "cv2.destroyAllWindows()\n",
    "#procedure to play video in reverse mode\n",
    "frame_list.reverse()\n",
    "for frame in frame_list:\n",
    "    cv2.imshow(\"frame\",frame)\n",
    "    if cv2.waitKey(25) & 0xFF==ord(\"q\"):\n",
    "        break\n",
    "cap.release()\n",
    "cv2.destroyAllWindows()        "
   ]
  },
  {
   "cell_type": "code",
   "execution_count": null,
   "id": "48401bea",
   "metadata": {},
   "outputs": [],
   "source": []
  }
 ],
 "metadata": {
  "kernelspec": {
   "display_name": "Python 3 (ipykernel)",
   "language": "python",
   "name": "python3"
  },
  "language_info": {
   "codemirror_mode": {
    "name": "ipython",
    "version": 3
   },
   "file_extension": ".py",
   "mimetype": "text/x-python",
   "name": "python",
   "nbconvert_exporter": "python",
   "pygments_lexer": "ipython3",
   "version": "3.10.8"
  }
 },
 "nbformat": 4,
 "nbformat_minor": 5
}
